{
 "cells": [
  {
   "cell_type": "code",
   "execution_count": 1,
   "metadata": {},
   "outputs": [
    {
     "name": "stdout",
     "output_type": "stream",
     "text": [
      "Hello stollpy 0.1.dev49+g4b7b941.d20221220\n"
     ]
    }
   ],
   "source": [
    "from stollpy import __version__\n",
    "\n",
    "print(f\"Hello stollpy {__version__}\")\n",
    "\n",
    "import bumpver"
   ]
  },
  {
   "cell_type": "code",
   "execution_count": null,
   "metadata": {},
   "outputs": [],
   "source": []
  }
 ],
 "metadata": {
  "kernelspec": {
   "display_name": "stollpy",
   "language": "python",
   "name": "python3"
  },
  "language_info": {
   "codemirror_mode": {
    "name": "ipython",
    "version": 3
   },
   "file_extension": ".py",
   "mimetype": "text/x-python",
   "name": "python",
   "nbconvert_exporter": "python",
   "pygments_lexer": "ipython3",
   "version": "3.8.15"
  },
  "orig_nbformat": 4,
  "vscode": {
   "interpreter": {
    "hash": "976cb919b795e575d9377c8f5298dac9362999dbdf78c1712e2433b671612618"
   }
  }
 },
 "nbformat": 4,
 "nbformat_minor": 2
}
