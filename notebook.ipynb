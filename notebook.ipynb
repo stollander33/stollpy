{
 "cells": [
  {
   "cell_type": "code",
   "execution_count": 1,
   "metadata": {},
   "outputs": [
    {
     "name": "stdout",
     "output_type": "stream",
     "text": [
      "['/home/stoll/Proyectos/RaPyDo-3.0/stollander-py/stollpy', '/home/stoll/anaconda3/envs/stollpy/lib/python38.zip', '/home/stoll/anaconda3/envs/stollpy/lib/python3.8', '/home/stoll/anaconda3/envs/stollpy/lib/python3.8/lib-dynload', '', '/home/stoll/.local/lib/python3.8/site-packages', '/home/stoll/anaconda3/envs/stollpy/lib/python3.8/site-packages']\n"
     ]
    }
   ],
   "source": [
    "import sys\n",
    "print(sys.path)"
   ]
  },
  {
   "cell_type": "code",
   "execution_count": 2,
   "metadata": {},
   "outputs": [
    {
     "ename": "ImportError",
     "evalue": "cannot import name 'main' from 'stollpy' (/home/stoll/Proyectos/RaPyDo-3.0/stollander-py/stollpy/src/stollpy/__init__.py)",
     "output_type": "error",
     "traceback": [
      "\u001b[0;31m---------------------------------------------------------------------------\u001b[0m",
      "\u001b[0;31mImportError\u001b[0m                               Traceback (most recent call last)",
      "Cell \u001b[0;32mIn[2], line 1\u001b[0m\n\u001b[0;32m----> 1\u001b[0m \u001b[39mfrom\u001b[39;00m  \u001b[39mstollpy\u001b[39;00m \u001b[39mimport\u001b[39;00m main\n\u001b[1;32m      4\u001b[0m main()\n",
      "\u001b[0;31mImportError\u001b[0m: cannot import name 'main' from 'stollpy' (/home/stoll/Proyectos/RaPyDo-3.0/stollander-py/stollpy/src/stollpy/__init__.py)"
     ]
    }
   ],
   "source": [
    "from  stollpy import main\n",
    "\n",
    "\n",
    "main()\n",
    "\n"
   ]
  }
 ],
 "metadata": {
  "kernelspec": {
   "display_name": "stollpy",
   "language": "python",
   "name": "python3"
  },
  "language_info": {
   "codemirror_mode": {
    "name": "ipython",
    "version": 3
   },
   "file_extension": ".py",
   "mimetype": "text/x-python",
   "name": "python",
   "nbconvert_exporter": "python",
   "pygments_lexer": "ipython3",
   "version": "3.8.15"
  },
  "orig_nbformat": 4,
  "vscode": {
   "interpreter": {
    "hash": "976cb919b795e575d9377c8f5298dac9362999dbdf78c1712e2433b671612618"
   }
  }
 },
 "nbformat": 4,
 "nbformat_minor": 2
}
