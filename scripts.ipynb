{
 "cells": [
  {
   "cell_type": "code",
   "execution_count": 1,
   "metadata": {
    "vscode": {
     "languageId": "shellscript"
    }
   },
   "outputs": [
    {
     "name": "stdout",
     "output_type": "stream",
     "text": [
      "--- Starting Evaluation ---\n",
      "\n",
      "\t\u001b[1mVerify File Hashes with RPM\u001b[0;0m\n",
      "\txccdf_org.ssgproject.content_rule_rpm_verify_hashes\n"
     ]
    }
   ],
   "source": [
    " oscap xccdf eval \\\n",
    "     --profile xccdf_org.ssgproject.content_profile_standard \\\n",
    "    --results-arf arf.xml \\\n",
    "    --report report.html \\\n",
    "    /usr/share/xml/scap/ssg/content/ssg-fedora-ds.xml"
   ]
  }
 ],
 "metadata": {
  "kernelspec": {
   "display_name": "Bash",
   "language": "bash",
   "name": "bash"
  },
  "language_info": {
   "codemirror_mode": "shell",
   "file_extension": ".sh",
   "mimetype": "text/x-sh",
   "name": "bash"
  },
  "orig_nbformat": 4
 },
 "nbformat": 4,
 "nbformat_minor": 2
}
