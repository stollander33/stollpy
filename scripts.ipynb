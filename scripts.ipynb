{
 "cells": [
  {
   "cell_type": "code",
   "execution_count": 1,
   "metadata": {
    "vscode": {
     "languageId": "shellscript"
    }
   },
   "outputs": [
    {
     "name": "stdout",
     "output_type": "stream",
     "text": [
      "--- Starting Evaluation ---\n",
      "\n",
      "\t\u001b[1mVerify File Hashes with RPM\u001b[0;0m\n",
      "\txccdf_org.ssgproject.content_rule_rpm_verify_hashes\n",
      "\t\u001b[32mpass\u001b[0m\n",
      "\n",
      "\t\u001b[1mVerify and Correct File Permissions with RPM\u001b[0;0m\n",
      "\txccdf_org.ssgproject.content_rule_rpm_verify_permissions\n",
      "\t\u001b[31mfail\u001b[0m\n",
      "\n",
      "\t\u001b[1mBuild and Test AIDE Database\u001b[0;0m\n",
      "\txccdf_org.ssgproject.content_rule_aide_build_database\n",
      "W: oscap:     There was a problem processing referenced variable (oval:ssg-variable_aide_build_new_database_absol\n",
      "W: oscap:     There was a problem processing referenced variable (oval:ssg-variable_aide_operational_database_abs\n",
      "\t\u001b[31mfail\u001b[0m\n",
      "\n",
      "\t\u001b[1mConfigure BIND to use System Crypto Policy\u001b[0;0m\n",
      "\txccdf_org.ssgproject.content_rule_configure_bind_crypto_policy\n",
      "\t\u001b[32mpass\u001b[0m\n",
      "\n",
      "\t\u001b[1mConfigure System Cryptography Policy\u001b[0;0m\n",
      "\txccdf_org.ssgproject.content_rule_configure_crypto_policy\n",
      "\t\u001b[32mpass\u001b[0m\n",
      "\n",
      "\t\u001b[1mConfigure Kerberos to use System Crypto Policy\u001b[0;0m\n",
      "\txccdf_org.ssgproject.content_rule_configure_kerberos_crypto_policy\n",
      "\t\u001b[32mpass\u001b[0m\n",
      "\n",
      "\t\u001b[1mConfigure Libreswan to use System Crypto Policy\u001b[0;0m\n",
      "\txccdf_org.ssgproject.content_rule_configure_libreswan_crypto_policy\n",
      "\t\u001b[32mpass\u001b[0m\n",
      "\n",
      "\t\u001b[1mConfigure OpenSSL library to use System Crypto Policy\u001b[0;0m\n",
      "\txccdf_org.ssgproject.content_rule_configure_openssl_crypto_policy\n",
      "\t\u001b[32mpass\u001b[0m\n",
      "\n",
      "\t\u001b[1mConfigure SSH to use System Crypto Policy\u001b[0;0m\n",
      "\txccdf_org.ssgproject.content_rule_configure_ssh_crypto_policy\n",
      "\t\u001b[1;31merror\u001b[0m\n",
      "\n",
      "\t\u001b[1mEnsure gpgcheck Enabled In Main dnf Configuration\u001b[0;0m\n",
      "\txccdf_org.ssgproject.content_rule_ensure_gpgcheck_globally_activated\n",
      "\t\u001b[31mfail\u001b[0m\n",
      "\n",
      "\t\u001b[1mEnsure gpgcheck Enabled for All dnf Package Repositories\u001b[0;0m\n",
      "\txccdf_org.ssgproject.content_rule_ensure_gpgcheck_never_disabled\n",
      "\t\u001b[32mpass\u001b[0m\n",
      "\n",
      "\t\u001b[1mEnsure PAM Displays Last Logon/Access Notification\u001b[0;0m\n",
      "\txccdf_org.ssgproject.content_rule_display_login_attempts\n",
      "\t\u001b[31mfail\u001b[0m\n",
      "\n",
      "\t\u001b[1mEnsure All Accounts on the System Have Unique Names\u001b[0;0m\n",
      "\txccdf_org.ssgproject.content_rule_account_unique_name\n",
      "\t\u001b[32mpass\u001b[0m\n",
      "\n",
      "\t\u001b[1mSet Password Maximum Age\u001b[0;0m\n",
      "\txccdf_org.ssgproject.content_rule_accounts_maximum_age_login_defs\n",
      "\t\u001b[31mfail\u001b[0m\n",
      "\n",
      "\t\u001b[1mSet Password Minimum Age\u001b[0;0m\n",
      "\txccdf_org.ssgproject.content_rule_accounts_minimum_age_login_defs\n",
      "\t\u001b[31mfail\u001b[0m\n",
      "\n",
      "\t\u001b[1mSet Password Warning Age\u001b[0;0m\n",
      "\txccdf_org.ssgproject.content_rule_accounts_password_warn_age_login_defs\n",
      "\t\u001b[32mpass\u001b[0m\n",
      "\n",
      "\t\u001b[1mVerify All Account Password Hashes are Shadowed\u001b[0;0m\n",
      "\txccdf_org.ssgproject.content_rule_accounts_password_all_shadowed\n",
      "\t\u001b[32mpass\u001b[0m\n",
      "\n",
      "\t\u001b[1mAll GIDs referenced in /etc/passwd must be defined in /etc/group\u001b[0;0m\n",
      "\txccdf_org.ssgproject.content_rule_gid_passwd_group_same\n",
      "\t\u001b[32mpass\u001b[0m\n",
      "\n",
      "\t\u001b[1mPrevent Login to Accounts With Empty Password\u001b[0;0m\n",
      "\txccdf_org.ssgproject.content_rule_no_empty_passwords\n",
      "\t\u001b[31mfail\u001b[0m\n",
      "\n",
      "\t\u001b[1mVerify No netrc Files Exist\u001b[0;0m\n",
      "\txccdf_org.ssgproject.content_rule_no_netrc_files\n",
      "\t\u001b[32mpass\u001b[0m\n",
      "\n",
      "\t\u001b[1mVerify Only Root Has UID 0\u001b[0;0m\n",
      "\txccdf_org.ssgproject.content_rule_accounts_no_uid_except_zero\n",
      "\t\u001b[32mpass\u001b[0m\n",
      "\n",
      "\t\u001b[1mDirect root Logins Not Allowed\u001b[0;0m\n",
      "\txccdf_org.ssgproject.content_rule_no_direct_root_logins\n",
      "\t\u001b[31mfail\u001b[0m\n",
      "\n",
      "\t\u001b[1mRestrict Serial Port Root Logins\u001b[0;0m\n",
      "\txccdf_org.ssgproject.content_rule_restrict_serial_port_logins\n",
      "\t\u001b[32mpass\u001b[0m\n",
      "\n",
      "\t\u001b[1mRestrict Virtual Console Root Logins\u001b[0;0m\n",
      "\txccdf_org.ssgproject.content_rule_securetty_root_login_console_only\n",
      "\t\u001b[32mpass\u001b[0m\n",
      "\n",
      "\t\u001b[1mEnsure that Root's Path Does Not Include World or Group-Writable Directories\u001b[0;0m\n",
      "\txccdf_org.ssgproject.content_rule_accounts_root_path_dirs_no_write\n",
      "\t\u001b[32mpass\u001b[0m\n",
      "\n",
      "\t\u001b[1mEnable Auditing for Processes Which Start Prior to the Audit Daemon\u001b[0;0m\n",
      "\txccdf_org.ssgproject.content_rule_grub2_audit_argument\n",
      "\t\u001b[31mfail\u001b[0m\n",
      "\n",
      "\t\u001b[1mMake the auditd Configuration Immutable\u001b[0;0m\n",
      "\txccdf_org.ssgproject.content_rule_audit_rules_immutable\n",
      "\t\u001b[31mfail\u001b[0m\n",
      "\n",
      "\t\u001b[1mRecord Events that Modify the System's Mandatory Access Controls\u001b[0;0m\n",
      "\txccdf_org.ssgproject.content_rule_audit_rules_mac_modification\n",
      "\t\u001b[31mfail\u001b[0m\n",
      "\n",
      "\t\u001b[1mEnsure auditd Collects Information on Exporting to Media (successful)\u001b[0;0m\n",
      "\txccdf_org.ssgproject.content_rule_audit_rules_media_export\n",
      "\t\u001b[31mfail\u001b[0m\n",
      "\n",
      "\t\u001b[1mRecord Events that Modify the System's Network Environment\u001b[0;0m\n",
      "\txccdf_org.ssgproject.content_rule_audit_rules_networkconfig_modification\n",
      "\t\u001b[31mfail\u001b[0m\n",
      "\n",
      "\t\u001b[1mRecord Attempts to Alter Process and Session Initiation Information\u001b[0;0m\n",
      "\txccdf_org.ssgproject.content_rule_audit_rules_session_events\n",
      "\t\u001b[31mfail\u001b[0m\n",
      "\n",
      "\t\u001b[1mEnsure auditd Collects System Administrator Actions\u001b[0;0m\n",
      "\txccdf_org.ssgproject.content_rule_audit_rules_sysadmin_actions\n",
      "\t\u001b[31mfail\u001b[0m\n",
      "\n",
      "\t\u001b[1mRecord Events that Modify User/Group Information\u001b[0;0m\n",
      "\txccdf_org.ssgproject.content_rule_audit_rules_usergroup_modification\n",
      "\t\u001b[31mfail\u001b[0m\n",
      "\n",
      "\t\u001b[1mSystem Audit Logs Must Be Owned By Root\u001b[0;0m\n",
      "\txccdf_org.ssgproject.content_rule_file_ownership_var_log_audit\n",
      "\t\u001b[32mpass\u001b[0m\n",
      "\n",
      "\t\u001b[1mRecord Events that Modify the System's Discretionary Access Controls - chmod\u001b[0;0m\n",
      "\txccdf_org.ssgproject.content_rule_audit_rules_dac_modification_chmod\n",
      "\t\u001b[31mfail\u001b[0m\n",
      "\n",
      "\t\u001b[1mRecord Events that Modify the System's Discretionary Access Controls - chown\u001b[0;0m\n",
      "\txccdf_org.ssgproject.content_rule_audit_rules_dac_modification_chown\n",
      "\t\u001b[31mfail\u001b[0m\n",
      "\n",
      "\t\u001b[1mRecord Events that Modify the System's Discretionary Access Controls - fchmod\u001b[0;0m\n",
      "\txccdf_org.ssgproject.content_rule_audit_rules_dac_modification_fchmod\n",
      "\t\u001b[31mfail\u001b[0m\n",
      "\n",
      "\t\u001b[1mRecord Events that Modify the System's Discretionary Access Controls - fchmodat\u001b[0;0m\n",
      "\txccdf_org.ssgproject.content_rule_audit_rules_dac_modification_fchmodat\n",
      "\t\u001b[31mfail\u001b[0m\n",
      "\n",
      "\t\u001b[1mRecord Events that Modify the System's Discretionary Access Controls - fchown\u001b[0;0m\n",
      "\txccdf_org.ssgproject.content_rule_audit_rules_dac_modification_fchown\n",
      "\t\u001b[31mfail\u001b[0m\n",
      "\n",
      "\t\u001b[1mRecord Events that Modify the System's Discretionary Access Controls - fchownat\u001b[0;0m\n",
      "\txccdf_org.ssgproject.content_rule_audit_rules_dac_modification_fchownat\n",
      "\t\u001b[31mfail\u001b[0m\n",
      "\n",
      "\t\u001b[1mRecord Events that Modify the System's Discretionary Access Controls - fremovexattr\u001b[0;0m\n",
      "\txccdf_org.ssgproject.content_rule_audit_rules_dac_modification_fremovexattr\n",
      "\t\u001b[31mfail\u001b[0m\n",
      "\n",
      "\t\u001b[1mRecord Events that Modify the System's Discretionary Access Controls - fsetxattr\u001b[0;0m\n",
      "\txccdf_org.ssgproject.content_rule_audit_rules_dac_modification_fsetxattr\n",
      "\t\u001b[31mfail\u001b[0m\n",
      "\n",
      "\t\u001b[1mRecord Events that Modify the System's Discretionary Access Controls - lchown\u001b[0;0m\n",
      "\txccdf_org.ssgproject.content_rule_audit_rules_dac_modification_lchown\n",
      "\t\u001b[31mfail\u001b[0m\n",
      "\n",
      "\t\u001b[1mRecord Events that Modify the System's Discretionary Access Controls - lremovexattr\u001b[0;0m\n",
      "\txccdf_org.ssgproject.content_rule_audit_rules_dac_modification_lremovexattr\n",
      "\t\u001b[31mfail\u001b[0m\n",
      "\n",
      "\t\u001b[1mRecord Events that Modify the System's Discretionary Access Controls - lsetxattr\u001b[0;0m\n",
      "\txccdf_org.ssgproject.content_rule_audit_rules_dac_modification_lsetxattr\n",
      "\t\u001b[31mfail\u001b[0m\n",
      "\n",
      "\t\u001b[1mRecord Events that Modify the System's Discretionary Access Controls - removexattr\u001b[0;0m\n",
      "\txccdf_org.ssgproject.content_rule_audit_rules_dac_modification_removexattr\n",
      "\t\u001b[31mfail\u001b[0m\n",
      "\n",
      "\t\u001b[1mRecord Events that Modify the System's Discretionary Access Controls - setxattr\u001b[0;0m\n",
      "\txccdf_org.ssgproject.content_rule_audit_rules_dac_modification_setxattr\n",
      "\t\u001b[31mfail\u001b[0m\n",
      "\n",
      "\t\u001b[1mEnsure auditd Collects File Deletion Events by User\u001b[0;0m\n",
      "\txccdf_org.ssgproject.content_rule_audit_rules_file_deletion_events\n",
      "\t\u001b[31mfail\u001b[0m\n",
      "\n",
      "\t\u001b[1mEnsure auditd Collects Unauthorized Access Attempts to Files (unsuccessful)\u001b[0;0m\n",
      "\txccdf_org.ssgproject.content_rule_audit_rules_unsuccessful_file_modification\n",
      "\t\u001b[31mfail\u001b[0m\n",
      "\n",
      "\t\u001b[1mEnsure auditd Collects Information on Kernel Module Loading and Unloading\u001b[0;0m\n",
      "\txccdf_org.ssgproject.content_rule_audit_rules_kernel_module_loading\n",
      "\t\u001b[31mfail\u001b[0m\n",
      "\n",
      "\t\u001b[1mRecord Attempts to Alter Logon and Logout Events\u001b[0;0m\n",
      "\txccdf_org.ssgproject.content_rule_audit_rules_login_events\n",
      "\t\u001b[31mfail\u001b[0m\n",
      "\n",
      "\t\u001b[1mEnsure auditd Collects Information on the Use of Privileged Commands\u001b[0;0m\n",
      "\txccdf_org.ssgproject.content_rule_audit_rules_privileged_commands\n"
     ]
    }
   ],
   "source": [
    " oscap xccdf eval \\\n",
    "     --profile xccdf_org.ssgproject.content_profile_standard \\\n",
    "    --results-arf arf.xml \\\n",
    "    --report report.html \\\n",
    "    /usr/share/xml/scap/ssg/content/ssg-fedora-ds.xml"
   ]
  },
  {
   "cell_type": "code",
   "execution_count": null,
   "metadata": {
    "vscode": {
     "languageId": "shellscript"
    }
   },
   "outputs": [
    {
     "name": "stdout",
     "output_type": "stream",
     "text": [
      "Usage: bumpver [OPTIONS] COMMAND [ARGS]...\n",
      "\n",
      "  Automatically update version strings in plaintext files.\n",
      "\n",
      "Options:\n",
      "  --version      Show the version and exit.\n",
      "  -v, --verbose  Control log level. -vv for debug level.\n",
      "  -h, --help     Show this message and exit.\n",
      "\n",
      "Commands:\n",
      "  grep    Search file(s) for a version pattern.\n",
      "  init    Initialize [bumpver] configuration.\n",
      "  show    Show current version of your project.\n",
      "  test    Increment a version number for demo purposes.\n",
      "  update  Update project files with the incremented version string.\n"
     ]
    }
   ],
   "source": [
    "bumpver --help"
   ]
  },
  {
   "cell_type": "code",
   "execution_count": null,
   "metadata": {
    "vscode": {
     "languageId": "shellscript"
    }
   },
   "outputs": [
    {
     "name": "stdout",
     "output_type": "stream",
     "text": [
      "INFO    - fetching tags from remote (to turn off use: -n / --no-fetch)\n",
      "Current Version: 1.0.0\n",
      "PEP440         : 1.0.0\n"
     ]
    }
   ],
   "source": [
    "bumpver show -v"
   ]
  },
  {
   "cell_type": "code",
   "execution_count": null,
   "metadata": {
    "vscode": {
     "languageId": "shellscript"
    }
   },
   "outputs": [
    {
     "name": "stdout",
     "output_type": "stream",
     "text": [
      "INFO    - fetching tags from remote (to turn off use: -n / --no-fetch)\n",
      "INFO    - Using pattern MAJOR.MINOR.PATCH\n",
      "INFO    - regex = re.compile(r\"\"\"\n",
      "    (?P<major>[0-9]+)\n",
      "    \\.\n",
      "    (?P<minor>[0-9]+)\n",
      "    \\.\n",
      "    (?P<patch>[0-9]+)\n",
      "\"\"\", flags=re.VERBOSE)\n",
      "INFO    - Old Version: 1.0.0\n",
      "INFO    - New Version: 1.0.1\n",
      "WARNING - git working directory is not clean. Uncomitted file(s):\n",
      "WARNING -     M .pypirc\n",
      "WARNING -     M pyproject.toml\n"
     ]
    },
    {
     "ename": "",
     "evalue": "1",
     "output_type": "error",
     "traceback": []
    }
   ],
   "source": [
    "bumpver update --patch -v"
   ]
  },
  {
   "attachments": {},
   "cell_type": "markdown",
   "metadata": {},
   "source": [
    "### Validar el manifiesto\n",
    "\n",
    "Utilizaremos el comando **check-manifest**"
   ]
  },
  {
   "cell_type": "code",
   "execution_count": null,
   "metadata": {
    "vscode": {
     "languageId": "shellscript"
    }
   },
   "outputs": [],
   "source": [
    "check-manifest"
   ]
  },
  {
   "cell_type": "code",
   "execution_count": null,
   "metadata": {
    "vscode": {
     "languageId": "shellscript"
    }
   },
   "outputs": [],
   "source": [
    "\n",
    "check-manifest\n",
    "buildstatus appveyor coverage\n",
    "\n",
    "Quick start\n",
    "$ pip install check-manifest\n",
    "\n",
    "$ cd ~/src/mygreatpackage\n",
    "$ check-manifest\n",
    "You can ask the script to help you update your MANIFEST.in:\n",
    "\n",
    "$ check-manifest -u -v\n",
    "listing source files under version control: 6 files and directories\n",
    "building an sdist: check-manifest-0.7.tar.gz: 4 files and dire"
   ]
  },
  {
   "cell_type": "code",
   "execution_count": 1,
   "metadata": {
    "vscode": {
     "languageId": "shellscript"
    }
   },
   "outputs": [
    {
     "name": "stdout",
     "output_type": "stream",
     "text": [
      "Usage: bumpver update [OPTIONS]\n",
      "\n",
      "  Update project files with the incremented version string.\n",
      "\n",
      "Options:\n",
      "  -d, --dry                       Display diff of changes, don't rewrite\n",
      "                                  files.\n",
      "  -f, --fetch / -n, --no-fetch    Sync tags from remote origin.\n",
      "  -v, --verbose                   Control log level. -vv for debug level.\n",
      "  --allow-dirty                   Commit even when working directory is has\n",
      "                                  uncomitted changes. (WARNING: The commit\n",
      "                                  will still be aborted if there are\n",
      "                                  uncomitted to files with version strings.\n",
      "  --set-version <VERSION>         Set version explicitly.\n",
      "  --date <ISODATE>                Set explicit date in format YYYY-0M-0D (e.g.\n",
      "                                  2022-12-20).\n",
      "  --pin-date                      Leave date components unchanged.\n",
      "  --pin-increments                Leave the auto-increments INC0 and INC1\n",
      "                                  unchanged.\n",
      "  --tag-num                       Increment release tag number (rc1, rc2,\n",
      "                                  rc3..).\n",
      "  -t, --tag <NAME>                Override release tag of current_version.\n",
      "                                  Valid options are: alpha, beta, rc, post,\n",
      "                                  final.\n",
      "  -p, --patch                     Increment PATCH component.\n",
      "  -m, --minor                     Increment MINOR component.\n",
      "  --major                         Increment MAJOR component.\n",
      "  -c, --commit-message <TMPL>     Set commit message template.\n",
      "  --commit / --no-commit          Create a commit with all updated files.\n",
      "  --tag-commit / --no-tag-commit  Tag the newly created commit.\n",
      "  --push / --no-push              Push to the default remote.\n",
      "  -h, --help                      Show this message and exit.\n"
     ]
    }
   ],
   "source": [
    "bumpver update --help"
   ]
  },
  {
   "cell_type": "code",
   "execution_count": 5,
   "metadata": {
    "vscode": {
     "languageId": "shellscript"
    }
   },
   "outputs": [
    {
     "name": "stdout",
     "output_type": "stream",
     "text": [
      "INFO    - fetching tags from remote (to turn off use: -n / --no-fetch)\n",
      "INFO    - Old Version: 1.0.0\n",
      "INFO    - New Version: 2.0.0\n",
      "WARNING - git working directory is not clean. Uncomitted file(s):\n",
      "WARNING -     .env.sample\n",
      "WARNING -     .gitignore\n",
      "WARNING -     .pypirc\n",
      "WARNING -     .pypirc.sample\n",
      "WARNING -     .vscode/launch.json\n",
      "WARNING -     BUILDING.md\n",
      "WARNING -     MANIFEST.in\n",
      "WARNING -     README.md\n",
      "WARNING -     notebook.ipynb\n",
      "WARNING -     pyproject.toml\n",
      "WARNING -     scripts.ipynb\n",
      "WARNING -     setup.cfg\n"
     ]
    },
    {
     "ename": "",
     "evalue": "1",
     "output_type": "error",
     "traceback": []
    }
   ],
   "source": [
    "# Obtenmos version desde el repositorio\n",
    "\n",
    "bumpver update --major --fetch \n",
    "bumpver update --minor --fetch "
   ]
  },
  {
   "cell_type": "code",
   "execution_count": 7,
   "metadata": {
    "vscode": {
     "languageId": "shellscript"
    }
   },
   "outputs": [
    {
     "name": "stdout",
     "output_type": "stream",
     "text": [
      "INFO    - fetching tags from remote (to turn off use: -n / --no-fetch)\n",
      "INFO    - Old Version: 1.0.0\n",
      "INFO    - New Version: 1.0.1\n",
      "WARNING - git working directory is not clean. Uncomitted file(s):\n",
      "WARNING -     .env.sample\n",
      "WARNING -     .gitignore\n",
      "WARNING -     .pypirc\n",
      "WARNING -     .pypirc.sample\n",
      "WARNING -     .vscode/launch.json\n",
      "WARNING -     BUILDING.md\n",
      "WARNING -     MANIFEST.in\n",
      "WARNING -     README.md\n",
      "WARNING -     notebook.ipynb\n",
      "WARNING -     pyproject.toml\n",
      "WARNING -     scripts.ipynb\n",
      "WARNING -     setup.cfg\n"
     ]
    },
    {
     "ename": "",
     "evalue": "1",
     "output_type": "error",
     "traceback": []
    }
   ],
   "source": [
    "\n",
    "bumpver update --patch --fetch "
   ]
  }
 ],
 "metadata": {
  "kernelspec": {
   "display_name": "Bash",
   "language": "bash",
   "name": "bash"
  },
  "language_info": {
   "codemirror_mode": "shell",
   "file_extension": ".sh",
   "mimetype": "text/x-sh",
   "name": "bash"
  },
  "orig_nbformat": 4
 },
 "nbformat": 4,
 "nbformat_minor": 2
}
